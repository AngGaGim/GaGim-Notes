{
 "cells": [
  {
   "metadata": {},
   "cell_type": "markdown",
   "source": [
    "| title               | tags      | created | modified |\n",
    "|---------------------|-----------|---------|----------|\n",
    "| dev-rag-deepdoc-pdf | [dev,rag] |  Sun Mar 16 03:09:57 CST 2025 | Sun Mar 16 03:09:57 CST 2025  |\n"
   ],
   "id": "9e728e4760101b95"
  },
  {
   "metadata": {},
   "cell_type": "markdown",
   "source": [
    "## 需求：\n",
    "> 基于ragflow进行二次开发，对文档解析（pdf、excel、word）添加图片解析"
   ],
   "id": "86fc942d6033955e"
  },
  {
   "metadata": {},
   "cell_type": "code",
   "outputs": [],
   "execution_count": null,
   "source": "",
   "id": "c90fa93e903ce099"
  }
 ],
 "metadata": {
  "kernelspec": {
   "display_name": "Python 3",
   "language": "python",
   "name": "python3"
  },
  "language_info": {
   "codemirror_mode": {
    "name": "ipython",
    "version": 2
   },
   "file_extension": ".py",
   "mimetype": "text/x-python",
   "name": "python",
   "nbconvert_exporter": "python",
   "pygments_lexer": "ipython2",
   "version": "2.7.6"
  }
 },
 "nbformat": 4,
 "nbformat_minor": 5
}
