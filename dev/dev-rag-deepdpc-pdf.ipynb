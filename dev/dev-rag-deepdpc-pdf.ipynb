{
 "cells": [
  {
   "cell_type": "markdown",
   "id": "9e728e4760101b95",
   "metadata": {},
   "source": [
    "| title               | tags      | created | modified |\n",
    "|---------------------|-----------|---------|----------|\n",
    "| dev-rag-deepdoc-pdf | [dev,rag] |  Sun Mar 16 03:09:57 CST 2025 | Sun Mar 16 03:09:57 CST 2025  |"
   ]
  },
  {
   "cell_type": "markdown",
   "id": "4e25adc1",
   "metadata": {},
   "source": []
  },
  {
   "cell_type": "markdown",
   "id": "86fc942d6033955e",
   "metadata": {},
   "source": [
    "## 需求：\n",
    "> 基于ragflow进行二次开发，对pdf文档添加图片解析"
   ]
  },
  {
   "cell_type": "markdown",
   "id": "f34adb9c",
   "metadata": {},
   "source": [
    "### 1. 图片提取\n",
    "\n",
    "v1: 尝试使用pdfplumber提取图片，但色域为CMYK的图片保存下来不是rgb通道，使用pillow的convert('GRB')也无效，可能需要加载icc、icm文件进行转换\n",
    "\n",
    "v2: 遂换成fitz提取图片流，使用pdfplumber提取图片id，再将图片id给到fitz\n",
    "\n"
   ]
  },
  {
   "cell_type": "code",
   "execution_count": 1,
   "id": "c90fa93e903ce099",
   "metadata": {},
   "outputs": [
    {
     "name": "stdout",
     "output_type": "stream",
     "text": [
      "1\n"
     ]
    }
   ],
   "source": ""
  },
  {
   "cell_type": "code",
   "execution_count": null,
   "id": "66f8e24b",
   "metadata": {},
   "outputs": [],
   "source": [
    "kkkk"
   ]
  },
  {
   "metadata": {},
   "cell_type": "code",
   "outputs": [],
   "execution_count": null,
   "source": "",
   "id": "f2116b4f4a845210"
  }
 ],
 "metadata": {
  "kernelspec": {
   "display_name": "Python 3",
   "language": "python",
   "name": "python3"
  },
  "language_info": {
   "codemirror_mode": {
    "name": "ipython",
    "version": 3
   },
   "file_extension": ".py",
   "mimetype": "text/x-python",
   "name": "python",
   "nbconvert_exporter": "python",
   "pygments_lexer": "ipython3",
   "version": "3.11.11"
  }
 },
 "nbformat": 4,
 "nbformat_minor": 5
}
