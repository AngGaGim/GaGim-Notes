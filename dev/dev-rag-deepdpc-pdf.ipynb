{
 "cells": [
  {
   "cell_type": "markdown",
   "id": "9e728e4760101b95",
   "metadata": {},
   "source": [
    "| title               | tags      | created | modified |\n",
    "|---------------------|-----------|---------|----------|\n",
    "| dev-rag-deepdoc-pdf | [dev,rag] |  Sun Mar 16 03:09:57 CST 2025 | Sun Mar 16 03:09:57 CST 2025  |"
   ]
  },
  {
   "cell_type": "markdown",
   "id": "4e25adc1",
   "metadata": {},
   "source": []
  },
  {
   "cell_type": "markdown",
   "id": "86fc942d6033955e",
   "metadata": {},
   "source": [
    "## 需求：\n",
    "> 基于ragflow进行二次开发，对pdf文档添加图片解析"
   ]
  },
  {
   "cell_type": "markdown",
   "id": "f34adb9c",
   "metadata": {},
   "source": [
    "# 图片处理与语义增强\n",
    "\n",
    "## 1. 图片提取\n",
    "\n",
    "### v1: 使用 `pdfplumber` 提取图片\n",
    "- **问题**: 提取的图片色域为 CMYK，保存后不是 RGB 通道。\n",
    "- **尝试**: 使用 Pillow 的 `convert('RGB')` 转换，但效果无效。\n",
    "- **可能原因**: 需要加载 ICC 或 ICM 文件进行色域转换。\n",
    "\n",
    "### v2: 改用 `fitz` 提取图片流\n",
    "- **流程**:\n",
    "  1. 使用 `pdfplumber` 提取图片 ID。\n",
    "  2. 将图片 ID 传递给 `fitz`，提取图片流。\n",
    "- **优势**: 解决了色域转换问题，提高提取效率。\n",
    "\n",
    "## 2. 图片语义增强\n",
    "- **背景**: 将图片 URL 嵌入文本中，常规模型在召回时无法理解图片语义。\n",
    "- **挑战**: 不使用 VL（视觉-语言）模型时，语义理解受限。\n",
    "- **解决方案**: 使用 VL 模型进行图片增强。\n",
    "- **当前选择**: 采用 `qwen-vl-max` 模型，提升图片语义理解能力。\n",
    "\n",
    "### 2.1  图片增强嵌入\n",
    "- **方案**: a. 图片提取时嵌入 b. 向量化分块前嵌入"
   ]
  }
 ],
 "metadata": {
  "kernelspec": {
   "display_name": "Python 3",
   "language": "python",
   "name": "python3"
  },
  "language_info": {
   "codemirror_mode": {
    "name": "ipython",
    "version": 3
   },
   "file_extension": ".py",
   "mimetype": "text/x-python",
   "name": "python",
   "nbconvert_exporter": "python",
   "pygments_lexer": "ipython3",
   "version": "3.11.11"
  }
 },
 "nbformat": 4,
 "nbformat_minor": 5
}
