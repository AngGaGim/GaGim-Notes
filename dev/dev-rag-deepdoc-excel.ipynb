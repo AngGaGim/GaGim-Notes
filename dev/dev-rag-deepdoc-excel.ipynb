{
 "cells": [
  {
   "metadata": {},
   "cell_type": "markdown",
   "source": [
    "| title               | tags      | created | modified |\n",
    "|---------------------|-----------|---------|----------|\n",
    "| dev-rag-deepdoc-pdf | [dev,rag] |  Sun Mar 16 03:09:57 CST 2025 | Sun Mar 16 03:09:57 CST 2025  |\n"
   ],
   "id": "2568faa23e43becc"
  },
  {
   "metadata": {},
   "cell_type": "markdown",
   "source": [
    "## 需求：\n",
    "> 基于ragflow进行二次开发，对文档解析（pdf、excel、word）添加图片解析"
   ],
   "id": "bda6a7539233efab"
  },
  {
   "metadata": {},
   "cell_type": "markdown",
   "source": [
    "| package | doc_type | embed_img | formula_img |\n",
    "| --- | --- |-----------|-------------|\n",
    "| openpyxl | xlsx | ✅         | ✅           |\n",
    "| --- | xls | ❌         | ❌           |\n",
    "| pandas+openpyxl |xlsx | ❌         | ✅           |\n",
    "| pandas+xlrd | xls | ❌         | ✅           |\n",
    "| xlrd | xls | ❌      | ✅  |"
   ],
   "id": "82d5a73436cbd6d1"
  },
  {
   "metadata": {},
   "cell_type": "code",
   "outputs": [],
   "execution_count": null,
   "source": "",
   "id": "9005a7168118c67d"
  }
 ],
 "metadata": {
  "kernelspec": {
   "display_name": "Python 3",
   "language": "python",
   "name": "python3"
  },
  "language_info": {
   "codemirror_mode": {
    "name": "ipython",
    "version": 2
   },
   "file_extension": ".py",
   "mimetype": "text/x-python",
   "name": "python",
   "nbconvert_exporter": "python",
   "pygments_lexer": "ipython2",
   "version": "2.7.6"
  }
 },
 "nbformat": 4,
 "nbformat_minor": 5
}
